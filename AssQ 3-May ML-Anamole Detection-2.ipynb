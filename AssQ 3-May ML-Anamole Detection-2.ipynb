{
 "cells": [
  {
   "cell_type": "markdown",
   "id": "723c91d6-2178-46a0-b7c0-713a573f36e3",
   "metadata": {},
   "source": [
    "# AssQ 3-May ML-Anomaly Detection-2"
   ]
  },
  {
   "cell_type": "code",
   "execution_count": null,
   "id": "185eef82-8a79-4399-a282-92c4ddac5dc7",
   "metadata": {},
   "outputs": [],
   "source": [
    "Q1. What is the role of feature selection in anomaly detection?"
   ]
  },
  {
   "cell_type": "code",
   "execution_count": null,
   "id": "907c3468-e5d7-4853-908d-3604aa6fc6af",
   "metadata": {},
   "outputs": [],
   "source": [
    "Feature selection plays an important role when it comes to improve outlier detection in\n",
    "terms of identifying noisy data that contain irrelevant or redundant features. State-of-the-art work either \n",
    "focuses on unsupervised feature selection for data streams or (offline) outlier detection.\n",
    "\n",
    "The anomaly detection/feature selection is done by simply flagging each metric \n",
    "as a zero or a 1 if its value is inside or outside normal range (0 for within normal range; \n",
    "1 for outside of normal range). \n",
    "I also calculate a “flag ratio” that expresses how far outside of normal the value is."
   ]
  },
  {
   "cell_type": "code",
   "execution_count": null,
   "id": "05101c46-2f8c-4770-9475-0946914c9401",
   "metadata": {},
   "outputs": [],
   "source": []
  },
  {
   "cell_type": "code",
   "execution_count": null,
   "id": "01760b33-1b01-4205-9227-ee29379fc8b0",
   "metadata": {},
   "outputs": [],
   "source": [
    "Q2. What are some common evaluation metrics for anomaly detection algorithms and how are they  computed?"
   ]
  },
  {
   "cell_type": "code",
   "execution_count": null,
   "id": "5b654b53-6285-4135-993d-b1c7f56ed74a",
   "metadata": {},
   "outputs": [],
   "source": [
    "Generally, in order to evaluate the quality of an anomaly detection technique, \n",
    "the confusion matrix and its derived metrics such as precision and recall are used.\n",
    "\n",
    "Checklist: 1. Isolation Forest 2. Local Outlier Factor 3. Robust Covariance 4. One-Class SVM 5. One-Class SVM (SGD)\n",
    "Isolation Forest.\n",
    "Local Outlier Factor.\n",
    "Robust Covariance.\n",
    "One-Class SVM.\n",
    "One-Class SVM (SGD)\n",
    "\n",
    "The three mathematical methods for calculating anomaly values with this function are as follows:\n",
    "Difference from mean = x - µ x = pixel value in a slice. ...\n",
    "Percent difference from mean = |x - µ| /[(x + µ)/2] x = pixel value in a slice. ...\n",
    "Percent of average = x / µ x = pixel value in a slice."
   ]
  },
  {
   "cell_type": "code",
   "execution_count": null,
   "id": "4bb1a44f-947e-48e0-95dd-0c389f44a674",
   "metadata": {},
   "outputs": [],
   "source": []
  },
  {
   "cell_type": "code",
   "execution_count": null,
   "id": "9e4537d6-25e6-454d-9124-4f3b159e6c5a",
   "metadata": {},
   "outputs": [],
   "source": [
    "Q3. What is DBSCAN and how does it work for clustering?"
   ]
  },
  {
   "cell_type": "code",
   "execution_count": null,
   "id": "0847fc31-2b60-4d88-a39f-cdc3d7e46a11",
   "metadata": {},
   "outputs": [],
   "source": [
    "Defined distance (DBSCAN)—Uses a specified distance to separate dense clusters from sparser noise. \n",
    "The DBSCAN algorithm is the fastest of the clustering methods, but is only appropriate \n",
    "if there is a very clear Search Distance to use, and that works well for all potential clusters.\n",
    "\n",
    "DBSCAN is a density-based clustering algorithm that works on the assumption that \n",
    "clusters are dense regions in space separated by regions of lower density.\n",
    "It groups 'densely grouped' data points into a single cluster.\n",
    "\n",
    "The DBSCAN algorithm should be used to find associations and structures in data that are hard to find manually\n",
    "but that can be relevant and useful to find patterns and predict\n",
    "\n",
    " Steps in the DBSCAN algorithm\n",
    "Classify the points.\n",
    "Discard noise.\n",
    "Assign cluster to a core point.\n",
    "Color all the density connected points of a core point.\n",
    "Color boundary points according to the nearest core point."
   ]
  },
  {
   "cell_type": "code",
   "execution_count": null,
   "id": "667eefd3-a984-463c-ac7a-7d028b7fa3f8",
   "metadata": {},
   "outputs": [],
   "source": []
  },
  {
   "cell_type": "code",
   "execution_count": null,
   "id": "d1e16a2a-faea-4e7a-afcc-ac7a8cd52949",
   "metadata": {},
   "outputs": [],
   "source": [
    "Q4. How does the epsilon parameter affect the performance of DBSCAN in detecting anomalies?"
   ]
  },
  {
   "cell_type": "code",
   "execution_count": null,
   "id": "1768d551-cb5c-4b83-ae80-18f128b42e43",
   "metadata": {},
   "outputs": [],
   "source": [
    "In other words, it is the distance that DBSCAN uses to determine if two points are\n",
    "similar and belong together. A larger epsilon will produce broader clusters \n",
    "(encompassing more data points) and a smaller epsilon will build smaller clusters.\n",
    "\n",
    "The aim is to determine the “knee”, which corresponds to the optimal epsilon parameter. \n",
    "A knee corresponds to a threshold where a sharp change occurs along the k-distance curve. \n",
    "It can be seen that the optimal eps value is around a distance of 0.15."
   ]
  },
  {
   "cell_type": "code",
   "execution_count": null,
   "id": "ea79d42c-c4d0-4f19-ad0a-68427aaef023",
   "metadata": {},
   "outputs": [],
   "source": []
  },
  {
   "cell_type": "code",
   "execution_count": null,
   "id": "27d85b84-1ea9-4394-a07d-97a0cd51a456",
   "metadata": {},
   "outputs": [],
   "source": [
    "Q5. What are the differences between the core, border, and noise points in DBSCAN, and how do they relate \n",
    "to anomaly detection?"
   ]
  },
  {
   "cell_type": "code",
   "execution_count": null,
   "id": "2aae1441-3244-4259-ae13-39d5e5f853a8",
   "metadata": {},
   "outputs": [],
   "source": [
    "There are three types of points after the DBSCAN clustering is complete:\n",
    "    Core — This is a point that has at least m points within distance n from itself. \n",
    "    Border — This is a point that has at least one Core point at a distance n. \n",
    "Noise — This is a point that is neither a Core nor a Border.\n",
    "\n",
    "A point is a core point if it has more than a specified number of points \n",
    "(MinPts) within Eps—These are points that are at the interior of a cluster.\n",
    "A border point has fewer than MinPts within Eps, but is in the neighborhood of a core point.\n",
    "A noise point is any point that is not a core point nor a border point."
   ]
  },
  {
   "cell_type": "code",
   "execution_count": null,
   "id": "42b9dccb-8234-4893-a789-43432dfc3999",
   "metadata": {},
   "outputs": [],
   "source": []
  },
  {
   "cell_type": "code",
   "execution_count": null,
   "id": "4f467557-37af-41d1-86ec-c6552e562e91",
   "metadata": {},
   "outputs": [],
   "source": [
    "Q6. How does DBSCAN detect anomalies and what are the key parameters involved in the process?"
   ]
  },
  {
   "cell_type": "code",
   "execution_count": null,
   "id": "66cfcb74-3541-4f2f-8901-7c9739f2ea10",
   "metadata": {},
   "outputs": [],
   "source": [
    "Outliers can be errors, coordinates with high uncertainty, or simply occurrences from an under-sampled region.\n",
    "DBSCAN is a simple and popular clustering algorithm. Here is a nice introduction.\n",
    "It uses distance and a minimum number of points per cluster to classify a point as an outlier.\n",
    "\n",
    "DBSCAN is a density-based clustering algorithm that can also be used for outlier detection.\n",
    "It is particularly useful for datasets where the outliers are not clearly defined and may\n",
    "be embedded within clusters. \n",
    "One unique use case of DBSCAN for outlier detection is in fraud detection.\n",
    "\n",
    "This algorithm can be used out of the box for fraud detection in only a few simple steps.\n",
    "Step 1: Import libraries. For this demo, we need three key libraries for data wrangling, visualization and modeling. ...\n",
    "Step 2: Import & visualize data. ...\n",
    "Step 3: Modeling. ...\n",
    "Step 5: Creating an outliers data frame."
   ]
  },
  {
   "cell_type": "code",
   "execution_count": null,
   "id": "bbc0aac4-14f0-4a78-8680-5a3467208eb2",
   "metadata": {},
   "outputs": [],
   "source": []
  },
  {
   "cell_type": "code",
   "execution_count": null,
   "id": "e58f7b7e-b142-4916-a6ea-93f7dfeac02f",
   "metadata": {},
   "outputs": [],
   "source": [
    "Q7. What is the make_circles package in scikit-learn used for?"
   ]
  },
  {
   "cell_type": "code",
   "execution_count": null,
   "id": "7a6b7ce8-d49c-45fa-8acb-848a0cd23c60",
   "metadata": {},
   "outputs": [],
   "source": [
    "Make a large circle containing a smaller circle in 2d. \n",
    "A simple toy dataset to visualize clustering and classification algorithms.\n",
    "\n",
    "The make_circles() function generates a binary classification problem with \n",
    "datasets that fall into concentric circles."
   ]
  },
  {
   "cell_type": "code",
   "execution_count": null,
   "id": "5183c2d5-e491-45a2-9fb2-923b5650652f",
   "metadata": {},
   "outputs": [],
   "source": []
  },
  {
   "cell_type": "code",
   "execution_count": null,
   "id": "98c23ba5-3618-4f64-a187-845a518ec140",
   "metadata": {},
   "outputs": [],
   "source": [
    "Q8. What are local outliers and global outliers, and how do they differ from each other?"
   ]
  },
  {
   "cell_type": "code",
   "execution_count": null,
   "id": "b8da0ca6-043a-43f0-8968-0919038464b8",
   "metadata": {},
   "outputs": [],
   "source": [
    "There are two general types of outlier detection: global and local.\n",
    "Global outliers fall outside the normal range for an entire dataset, \n",
    "whereas local outliers may fall within the normal range for the entire dataset,\n",
    "but outside the normal range for the surrounding data points.\n",
    "\n",
    "But what does the local outlier mean? When a point is considered as an outlier based on its local neighborhood,\n",
    "it is a local outlier. LOF will identify an outlier considering the density of the neighborhood. \n",
    "LOF performs well when the density of the data is  not the same throughout the dataset.\n",
    "\n",
    "A global outlier is a measured sample point that has a very high \n",
    "or a very low value relative to all the values in a dataset. For example,\n",
    "if 99 out of 100 points have values between 300 and 400, but the 100th point has a value of 750,\n",
    "the 100th point may be a global outlier."
   ]
  },
  {
   "cell_type": "code",
   "execution_count": null,
   "id": "1cf619b8-ba74-4c28-ab6d-07a4dbb86a76",
   "metadata": {},
   "outputs": [],
   "source": []
  },
  {
   "cell_type": "code",
   "execution_count": null,
   "id": "665841ca-8de1-4155-aea2-5db0631deac8",
   "metadata": {},
   "outputs": [],
   "source": [
    "Q9. How can local outliers be detected using the Local Outlier Factor (LOF) algorithm?"
   ]
  },
  {
   "cell_type": "code",
   "execution_count": null,
   "id": "6d628326-4a84-4489-a651-9f8e0abeaef0",
   "metadata": {},
   "outputs": [],
   "source": [
    "The Local Outlier Factor (LOF) algorithm is an unsupervised anomaly detection method which \n",
    "computes the local density deviation of a given data point with respect to its neighbors.\n",
    "It considers as outliers the samples that have a substantially lower density than their neighbors.\n",
    "\n",
    "Local outlier factor (LOF) values identify an outlier based on the local neighborhood. \n",
    "It gives better results than the global approach to find outliers. \n",
    "Since there is no threshold value of LOF, \n",
    "the selection of a point as an outlier is user-dependent."
   ]
  },
  {
   "cell_type": "code",
   "execution_count": null,
   "id": "8159cc0d-ed42-44d0-b3e7-ecee17cf5025",
   "metadata": {},
   "outputs": [],
   "source": []
  },
  {
   "cell_type": "code",
   "execution_count": null,
   "id": "e6f8685b-ead2-48a1-adb6-27a9f409ea28",
   "metadata": {},
   "outputs": [],
   "source": [
    "Q10. How can global outliers be detected using the Isolation Forest algorithm?"
   ]
  },
  {
   "cell_type": "code",
   "execution_count": null,
   "id": "4c35c8ba-52f9-49d4-a34d-5662c32cf731",
   "metadata": {},
   "outputs": [],
   "source": [
    "Isolation Forest is based on the Decision Tree algorithm. It isolates the outliers by \n",
    "randomly selecting a feature from the given set of features and then randomly selecting a \n",
    "split value between the max and min values of that feature.\n",
    "\n",
    "Isolation Forest is a model-based outlier detection method that attempts to isolate anomalies\n",
    "from the rest of the data using an ensemble of decision trees.\n",
    "It does not rely on training a model on labelled data. This method selects a feature and makes a\n",
    "random split in the data between the minimum and maximum values."
   ]
  },
  {
   "cell_type": "code",
   "execution_count": null,
   "id": "875a5140-6bf7-4c5d-8740-ae6abd2e634b",
   "metadata": {},
   "outputs": [],
   "source": []
  },
  {
   "cell_type": "code",
   "execution_count": null,
   "id": "11c6c303-c983-41f0-b314-cfe85fd138e7",
   "metadata": {},
   "outputs": [],
   "source": [
    "Q11. What are some real-world applications where local outlier detection is more appropriate than global \n",
    "outlier detection, and vice versa?"
   ]
  },
  {
   "cell_type": "code",
   "execution_count": null,
   "id": "812a0586-0d1b-4293-9bf7-273a04cc331d",
   "metadata": {},
   "outputs": [],
   "source": [
    "A global outlier is a point that is far away from all other points in the feature class. \n",
    "A local outlier is a point that is farther away from its neighbors than\n",
    "would be expected by the density of points in the local area.\n",
    "\n",
    "There are two general types of outlier detection: global and local.\n",
    "Global outliers fall outside the normal range for an entire dataset, \n",
    "whereas local outliers may fall within the normal range for the entire dataset,\n",
    "but outside the normal range for the surrounding data points.\n",
    "\n",
    "DBSCAN. This technique is based on the DBSCAN clustering method. \n",
    "DBSCAN is a nonparametric, density based outlier detection method in a one or \n",
    "multi dimensional feature space. In the DBSCAN clustering technique, all data points are\n",
    "defined either as Core Points, Border Points or Noise Points."
   ]
  },
  {
   "cell_type": "code",
   "execution_count": null,
   "id": "45ad423e-b517-4002-b603-0373b9aa871b",
   "metadata": {},
   "outputs": [],
   "source": [
    ".............................The End................"
   ]
  }
 ],
 "metadata": {
  "kernelspec": {
   "display_name": "Python 3 (ipykernel)",
   "language": "python",
   "name": "python3"
  },
  "language_info": {
   "codemirror_mode": {
    "name": "ipython",
    "version": 3
   },
   "file_extension": ".py",
   "mimetype": "text/x-python",
   "name": "python",
   "nbconvert_exporter": "python",
   "pygments_lexer": "ipython3",
   "version": "3.10.6"
  }
 },
 "nbformat": 4,
 "nbformat_minor": 5
}
